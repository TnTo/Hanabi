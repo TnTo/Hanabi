{
 "metadata": {
  "language_info": {
   "codemirror_mode": {
    "name": "ipython",
    "version": 3
   },
   "file_extension": ".py",
   "mimetype": "text/x-python",
   "name": "python",
   "nbconvert_exporter": "python",
   "pygments_lexer": "ipython3",
   "version": "3.8.6-final"
  },
  "orig_nbformat": 2,
  "kernelspec": {
   "name": "Python 3.8.6 64-bit",
   "display_name": "Python 3.8.6 64-bit",
   "metadata": {
    "interpreter": {
     "hash": "e7370f93d1d0cde622a1f8e1c04877d8463912d04d973331ad4851f04de6915a"
    }
   }
  }
 },
 "nbformat": 4,
 "nbformat_minor": 2,
 "cells": [
  {
   "cell_type": "code",
   "execution_count": 6,
   "metadata": {},
   "outputs": [],
   "source": [
    "from GameDummy import *"
   ]
  },
  {
   "cell_type": "code",
   "execution_count": 27,
   "metadata": {},
   "outputs": [],
   "source": [
    "game = new_game(shuffle = False)"
   ]
  },
  {
   "cell_type": "code",
   "execution_count": 47,
   "metadata": {},
   "outputs": [],
   "source": [
    "def move(game):\n",
    "    actions = available_moves(game)\n",
    "    for action in actions:\n",
    "        print(action[-DACTION:])\n",
    "        if action[DGAME:][HINT_NUMBER] != -1:\n",
    "            print_game(\n",
    "                hint_number(\n",
    "                    action[:DGAME],\n",
    "                    np.asscalar(action[DGAME:][PLAYER]),\n",
    "                    np.asscalar(action[DGAME:][HINT_NUMBER]),\n",
    "                )\n",
    "            )\n",
    "        if action[DGAME:][HINT_COLOR] != -1:\n",
    "            print_game(\n",
    "                hint_color(\n",
    "                    action[:DGAME],\n",
    "                    np.asscalar(action[DGAME:][PLAYER]),\n",
    "                    np.asscalar(action[DGAME:][HINT_COLOR]),\n",
    "                )\n",
    "            )\n",
    "        if action[DGAME:][PLAY] != -1:\n",
    "            print_game(\n",
    "                play(action[:DGAME], np.asscalar(action[DGAME:][PLAY]))\n",
    "                )\n",
    "        if action[DGAME:][DISCARD] != -1:\n",
    "            print_game(discard(action[:DGAME], np.asscalar(action[DGAME:][DISCARD])))\n",
    "        print(\"\")"
   ]
  },
  {
   "cell_type": "code",
   "execution_count": 36,
   "metadata": {},
   "outputs": [],
   "source": [
    "def print_game(game):\n",
    "    print(\"LIFES \", game[LIFES])\n",
    "    print(\"HINTS \", game[HINTS])\n",
    "    print(\"DECK\")\n",
    "    print(game[DECK])\n",
    "    print(\"DISCARDED\")\n",
    "    print(game[DISCARDED])\n",
    "    for p in range(N_PLAYER):\n",
    "        print(\"PLAYER \", p+1)\n",
    "        for t in range(HAND_SIZE):\n",
    "            print(game[PLAYERS][p*DPLAYER: (p+1)*DPLAYER][t*DHANDTILE:(t+1)*DHANDTILE])\n",
    "    print(\"PILES \", game[PILES])\n",
    "\n",
    "    \n"
   ]
  },
  {
   "cell_type": "code",
   "execution_count": 50,
   "metadata": {
    "tags": []
   },
   "outputs": [
    {
     "output_type": "stream",
     "name": "stdout",
     "text": "[-1  2  4  0  1  0  1  0  1  1  1  1  1  2  1 -1 -1 -1 -1 -1 -1 -1 -1 -1\n -1 -1 -1  0  0  0  0  0  0  1  0 -1 -1 -1 -1 -1  1  0 -1 -1 -1 -1 -1  2\n  0 -1 -1 -1 -1 -1  0  0 -1 -1 -1 -1 -1  0  0 -1 -1 -1 -1 -1  0  0 -1 -1\n -1 -1 -1 -1 -1 -1]\nLIFES  [2]\nHINTS  [4]\nDECK\n[ 0  1  0  1  0  1  1  1  1  1  2  1 -1 -1 -1 -1 -1 -1 -1 -1 -1 -1 -1 -1]\nDISCARDED\n[0 0 0 0 0 0]\nPLAYER  1\n[ 1  0 -1 -1 -1 -1 -1]\n[ 1  0 -1 -1 -1 -1 -1]\n[ 2  0 -1 -1 -1 -1 -1]\nPLAYER  2\n[ 0  0 -1 -1 -1 -1 -1]\n[ 0  0 -1 -1 -1 -1 -1]\n[ 0  0 -1 -1 -1 -1 -1]\nPILES  [-1 -1]\n"
    }
   ],
   "source": [
    "print(game)\n",
    "print_game(game)"
   ]
  },
  {
   "cell_type": "code",
   "execution_count": 51,
   "metadata": {
    "tags": []
   },
   "outputs": [
    {
     "output_type": "stream",
     "name": "stdout",
     "text": "[-1 -1  0  1 -1 -1]\nLIFES  [2]\nHINTS  [3]\nDECK\n[ 0  1  0  1  0  1  1  1  1  1  2  1 -1 -1 -1 -1 -1 -1 -1 -1 -1 -1 -1 -1]\nDISCARDED\n[0 0 0 0 0 0]\nPLAYER  1\n[ 1  0 -1 -1 -1 -1 -1]\n[ 1  0 -1 -1 -1 -1 -1]\n[ 2  0 -1 -1 -1 -1 -1]\nPLAYER  2\n[ 0  0  1 -1 -1 -1 -1]\n[ 0  0  1 -1 -1 -1 -1]\n[ 0  0  1 -1 -1 -1 -1]\nPILES  [-1 -1]\n\n[-1 -1  1  1 -1 -1]\nLIFES  [2]\nHINTS  [3]\nDECK\n[ 0  1  0  1  0  1  1  1  1  1  2  1 -1 -1 -1 -1 -1 -1 -1 -1 -1 -1 -1 -1]\nDISCARDED\n[0 0 0 0 0 0]\nPLAYER  1\n[ 1  0 -1 -1 -1 -1 -1]\n[ 1  0 -1 -1 -1 -1 -1]\n[ 2  0 -1 -1 -1 -1 -1]\nPLAYER  2\n[ 0  0 -1  0 -1 -1 -1]\n[ 0  0 -1  0 -1 -1 -1]\n[ 0  0 -1  0 -1 -1 -1]\nPILES  [-1 -1]\n\n[-1 -1  2  1 -1 -1]\nLIFES  [2]\nHINTS  [3]\nDECK\n[ 0  1  0  1  0  1  1  1  1  1  2  1 -1 -1 -1 -1 -1 -1 -1 -1 -1 -1 -1 -1]\nDISCARDED\n[0 0 0 0 0 0]\nPLAYER  1\n[ 1  0 -1 -1 -1 -1 -1]\n[ 1  0 -1 -1 -1 -1 -1]\n[ 2  0 -1 -1 -1 -1 -1]\nPLAYER  2\n[ 0  0 -1 -1  0 -1 -1]\n[ 0  0 -1 -1  0 -1 -1]\n[ 0  0 -1 -1  0 -1 -1]\nPILES  [-1 -1]\n\n[-1  0 -1  1 -1 -1]\nLIFES  [2]\nHINTS  [3]\nDECK\n[ 0  1  0  1  0  1  1  1  1  1  2  1 -1 -1 -1 -1 -1 -1 -1 -1 -1 -1 -1 -1]\nDISCARDED\n[0 0 0 0 0 0]\nPLAYER  1\n[ 1  0 -1 -1 -1 -1 -1]\n[ 1  0 -1 -1 -1 -1 -1]\n[ 2  0 -1 -1 -1 -1 -1]\nPLAYER  2\n[ 0  0 -1 -1 -1  1 -1]\n[ 0  0 -1 -1 -1  1 -1]\n[ 0  0 -1 -1 -1  1 -1]\nPILES  [-1 -1]\n\n[-1  1 -1  1 -1 -1]\nLIFES  [2]\nHINTS  [3]\nDECK\n[ 0  1  0  1  0  1  1  1  1  1  2  1 -1 -1 -1 -1 -1 -1 -1 -1 -1 -1 -1 -1]\nDISCARDED\n[0 0 0 0 0 0]\nPLAYER  1\n[ 1  0 -1 -1 -1 -1 -1]\n[ 1  0 -1 -1 -1 -1 -1]\n[ 2  0 -1 -1 -1 -1 -1]\nPLAYER  2\n[ 0  0 -1 -1 -1 -1  0]\n[ 0  0 -1 -1 -1 -1  0]\n[ 0  0 -1 -1 -1 -1  0]\nPILES  [-1 -1]\n\n[-1 -1 -1 -1 -1  0]\nLIFES  [2]\nHINTS  [5]\nDECK\n[ 0  1  0  1  1  1  1  1  2  1 -1 -1 -1 -1 -1 -1 -1 -1 -1 -1 -1 -1 -1 -1]\nDISCARDED\n[0 0 1 0 0 0]\nPLAYER  1\n[ 1  0 -1 -1 -1 -1 -1]\n[ 2  0 -1 -1 -1 -1 -1]\n[ 0  1 -1 -1 -1 -1 -1]\nPLAYER  2\n[ 0  0 -1 -1 -1 -1 -1]\n[ 0  0 -1 -1 -1 -1 -1]\n[ 0  0 -1 -1 -1 -1 -1]\nPILES  [-1 -1]\n\n[-1 -1 -1 -1  0 -1]\nLIFES  [1]\nHINTS  [4]\nDECK\n[ 0  1  0  1  1  1  1  1  2  1 -1 -1 -1 -1 -1 -1 -1 -1 -1 -1 -1 -1 -1 -1]\nDISCARDED\n[0 0 1 0 0 0]\nPLAYER  1\n[ 1  0 -1 -1 -1 -1 -1]\n[ 2  0 -1 -1 -1 -1 -1]\n[ 0  1 -1 -1 -1 -1 -1]\nPLAYER  2\n[ 0  0 -1 -1 -1 -1 -1]\n[ 0  0 -1 -1 -1 -1 -1]\n[ 0  0 -1 -1 -1 -1 -1]\nPILES  [-1 -1]\n\n[-1 -1 -1 -1 -1  1]\nLIFES  [2]\nHINTS  [5]\nDECK\n[ 0  1  0  1  1  1  1  1  2  1 -1 -1 -1 -1 -1 -1 -1 -1 -1 -1 -1 -1 -1 -1]\nDISCARDED\n[0 0 1 0 0 0]\nPLAYER  1\n[ 1  0 -1 -1 -1 -1 -1]\n[ 2  0 -1 -1 -1 -1 -1]\n[ 0  1 -1 -1 -1 -1 -1]\nPLAYER  2\n[ 0  0 -1 -1 -1 -1 -1]\n[ 0  0 -1 -1 -1 -1 -1]\n[ 0  0 -1 -1 -1 -1 -1]\nPILES  [-1 -1]\n\n[-1 -1 -1 -1  1 -1]\nLIFES  [1]\nHINTS  [4]\nDECK\n[ 0  1  0  1  1  1  1  1  2  1 -1 -1 -1 -1 -1 -1 -1 -1 -1 -1 -1 -1 -1 -1]\nDISCARDED\n[0 0 1 0 0 0]\nPLAYER  1\n[ 1  0 -1 -1 -1 -1 -1]\n[ 2  0 -1 -1 -1 -1 -1]\n[ 0  1 -1 -1 -1 -1 -1]\nPLAYER  2\n[ 0  0 -1 -1 -1 -1 -1]\n[ 0  0 -1 -1 -1 -1 -1]\n[ 0  0 -1 -1 -1 -1 -1]\nPILES  [-1 -1]\n\n[-1 -1 -1 -1 -1  2]\nLIFES  [2]\nHINTS  [5]\nDECK\n[ 0  1  0  1  1  1  1  1  2  1 -1 -1 -1 -1 -1 -1 -1 -1 -1 -1 -1 -1 -1 -1]\nDISCARDED\n[0 0 0 0 1 0]\nPLAYER  1\n[ 1  0 -1 -1 -1 -1 -1]\n[ 1  0 -1 -1 -1 -1 -1]\n[ 0  1 -1 -1 -1 -1 -1]\nPLAYER  2\n[ 0  0 -1 -1 -1 -1 -1]\n[ 0  0 -1 -1 -1 -1 -1]\n[ 0  0 -1 -1 -1 -1 -1]\nPILES  [-1 -1]\n\n[-1 -1 -1 -1  2 -1]\nLIFES  [1]\nHINTS  [4]\nDECK\n[ 0  1  0  1  1  1  1  1  2  1 -1 -1 -1 -1 -1 -1 -1 -1 -1 -1 -1 -1 -1 -1]\nDISCARDED\n[0 0 0 0 1 0]\nPLAYER  1\n[ 1  0 -1 -1 -1 -1 -1]\n[ 1  0 -1 -1 -1 -1 -1]\n[ 0  1 -1 -1 -1 -1 -1]\nPLAYER  2\n[ 0  0 -1 -1 -1 -1 -1]\n[ 0  0 -1 -1 -1 -1 -1]\n[ 0  0 -1 -1 -1 -1 -1]\nPILES  [-1 -1]\n\n"
    }
   ],
   "source": [
    "move(game)"
   ]
  },
  {
   "cell_type": "code",
   "execution_count": 49,
   "metadata": {},
   "outputs": [],
   "source": [
    "game = next_turn(game)"
   ]
  },
  {
   "cell_type": "code",
   "execution_count": null,
   "metadata": {},
   "outputs": [],
   "source": []
  }
 ]
}